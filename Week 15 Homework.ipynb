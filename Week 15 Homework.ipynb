{
 "cells": [
  {
   "cell_type": "markdown",
   "id": "7c657456",
   "metadata": {},
   "source": [
    "### 0- Seaborn kütüphanesi içerisinde bulunan titanic datasini yukleyin"
   ]
  },
  {
   "cell_type": "code",
   "execution_count": 1,
   "id": "85ff5833",
   "metadata": {},
   "outputs": [
    {
     "data": {
      "text/html": [
       "<div>\n",
       "<style scoped>\n",
       "    .dataframe tbody tr th:only-of-type {\n",
       "        vertical-align: middle;\n",
       "    }\n",
       "\n",
       "    .dataframe tbody tr th {\n",
       "        vertical-align: top;\n",
       "    }\n",
       "\n",
       "    .dataframe thead th {\n",
       "        text-align: right;\n",
       "    }\n",
       "</style>\n",
       "<table border=\"1\" class=\"dataframe\">\n",
       "  <thead>\n",
       "    <tr style=\"text-align: right;\">\n",
       "      <th></th>\n",
       "      <th>survived</th>\n",
       "      <th>pclass</th>\n",
       "      <th>sex</th>\n",
       "      <th>age</th>\n",
       "      <th>sibsp</th>\n",
       "      <th>parch</th>\n",
       "      <th>fare</th>\n",
       "      <th>embarked</th>\n",
       "      <th>class</th>\n",
       "      <th>who</th>\n",
       "      <th>adult_male</th>\n",
       "      <th>deck</th>\n",
       "      <th>embark_town</th>\n",
       "      <th>alive</th>\n",
       "      <th>alone</th>\n",
       "    </tr>\n",
       "  </thead>\n",
       "  <tbody>\n",
       "    <tr>\n",
       "      <th>0</th>\n",
       "      <td>0</td>\n",
       "      <td>3</td>\n",
       "      <td>male</td>\n",
       "      <td>22.0</td>\n",
       "      <td>1</td>\n",
       "      <td>0</td>\n",
       "      <td>7.2500</td>\n",
       "      <td>S</td>\n",
       "      <td>Third</td>\n",
       "      <td>man</td>\n",
       "      <td>True</td>\n",
       "      <td>NaN</td>\n",
       "      <td>Southampton</td>\n",
       "      <td>no</td>\n",
       "      <td>False</td>\n",
       "    </tr>\n",
       "    <tr>\n",
       "      <th>1</th>\n",
       "      <td>1</td>\n",
       "      <td>1</td>\n",
       "      <td>female</td>\n",
       "      <td>38.0</td>\n",
       "      <td>1</td>\n",
       "      <td>0</td>\n",
       "      <td>71.2833</td>\n",
       "      <td>C</td>\n",
       "      <td>First</td>\n",
       "      <td>woman</td>\n",
       "      <td>False</td>\n",
       "      <td>C</td>\n",
       "      <td>Cherbourg</td>\n",
       "      <td>yes</td>\n",
       "      <td>False</td>\n",
       "    </tr>\n",
       "    <tr>\n",
       "      <th>2</th>\n",
       "      <td>1</td>\n",
       "      <td>3</td>\n",
       "      <td>female</td>\n",
       "      <td>26.0</td>\n",
       "      <td>0</td>\n",
       "      <td>0</td>\n",
       "      <td>7.9250</td>\n",
       "      <td>S</td>\n",
       "      <td>Third</td>\n",
       "      <td>woman</td>\n",
       "      <td>False</td>\n",
       "      <td>NaN</td>\n",
       "      <td>Southampton</td>\n",
       "      <td>yes</td>\n",
       "      <td>True</td>\n",
       "    </tr>\n",
       "    <tr>\n",
       "      <th>3</th>\n",
       "      <td>1</td>\n",
       "      <td>1</td>\n",
       "      <td>female</td>\n",
       "      <td>35.0</td>\n",
       "      <td>1</td>\n",
       "      <td>0</td>\n",
       "      <td>53.1000</td>\n",
       "      <td>S</td>\n",
       "      <td>First</td>\n",
       "      <td>woman</td>\n",
       "      <td>False</td>\n",
       "      <td>C</td>\n",
       "      <td>Southampton</td>\n",
       "      <td>yes</td>\n",
       "      <td>False</td>\n",
       "    </tr>\n",
       "    <tr>\n",
       "      <th>4</th>\n",
       "      <td>0</td>\n",
       "      <td>3</td>\n",
       "      <td>male</td>\n",
       "      <td>35.0</td>\n",
       "      <td>0</td>\n",
       "      <td>0</td>\n",
       "      <td>8.0500</td>\n",
       "      <td>S</td>\n",
       "      <td>Third</td>\n",
       "      <td>man</td>\n",
       "      <td>True</td>\n",
       "      <td>NaN</td>\n",
       "      <td>Southampton</td>\n",
       "      <td>no</td>\n",
       "      <td>True</td>\n",
       "    </tr>\n",
       "  </tbody>\n",
       "</table>\n",
       "</div>"
      ],
      "text/plain": [
       "   survived  pclass     sex   age  sibsp  parch     fare embarked  class  \\\n",
       "0         0       3    male  22.0      1      0   7.2500        S  Third   \n",
       "1         1       1  female  38.0      1      0  71.2833        C  First   \n",
       "2         1       3  female  26.0      0      0   7.9250        S  Third   \n",
       "3         1       1  female  35.0      1      0  53.1000        S  First   \n",
       "4         0       3    male  35.0      0      0   8.0500        S  Third   \n",
       "\n",
       "     who  adult_male deck  embark_town alive  alone  \n",
       "0    man        True  NaN  Southampton    no  False  \n",
       "1  woman       False    C    Cherbourg   yes  False  \n",
       "2  woman       False  NaN  Southampton   yes   True  \n",
       "3  woman       False    C  Southampton   yes  False  \n",
       "4    man        True  NaN  Southampton    no   True  "
      ]
     },
     "execution_count": 1,
     "metadata": {},
     "output_type": "execute_result"
    }
   ],
   "source": [
    "import seaborn as sns\n",
    "titanic= sns.load_dataset('titanic')\n",
    "df = titanic.copy()\n",
    "df.head(5)"
   ]
  },
  {
   "cell_type": "markdown",
   "id": "542d0535",
   "metadata": {},
   "source": [
    "### 1- Değişkenlerin veri türlerini yazınız"
   ]
  },
  {
   "cell_type": "code",
   "execution_count": 2,
   "id": "33bb9f2d",
   "metadata": {},
   "outputs": [
    {
     "name": "stdout",
     "output_type": "stream",
     "text": [
      "<class 'pandas.core.frame.DataFrame'>\n",
      "RangeIndex: 891 entries, 0 to 890\n",
      "Data columns (total 15 columns):\n",
      " #   Column       Non-Null Count  Dtype   \n",
      "---  ------       --------------  -----   \n",
      " 0   survived     891 non-null    int64   \n",
      " 1   pclass       891 non-null    int64   \n",
      " 2   sex          891 non-null    object  \n",
      " 3   age          714 non-null    float64 \n",
      " 4   sibsp        891 non-null    int64   \n",
      " 5   parch        891 non-null    int64   \n",
      " 6   fare         891 non-null    float64 \n",
      " 7   embarked     889 non-null    object  \n",
      " 8   class        891 non-null    category\n",
      " 9   who          891 non-null    object  \n",
      " 10  adult_male   891 non-null    bool    \n",
      " 11  deck         203 non-null    category\n",
      " 12  embark_town  889 non-null    object  \n",
      " 13  alive        891 non-null    object  \n",
      " 14  alone        891 non-null    bool    \n",
      "dtypes: bool(2), category(2), float64(2), int64(4), object(5)\n",
      "memory usage: 80.7+ KB\n"
     ]
    }
   ],
   "source": [
    "df.info()"
   ]
  },
  {
   "cell_type": "markdown",
   "id": "a1b77835",
   "metadata": {},
   "source": [
    "### 1- Nicel verileri describe methodu ile inceleyiniz ve \n",
    "### verileri ortalaması, standart sapması ve çeyrekliklerine gore:\n",
    "#### a) aykırılık olup olmadığı konusunda\n",
    "#### b) normal dağılıp dağılmadığı konusunda yorumda bulunun"
   ]
  },
  {
   "cell_type": "code",
   "execution_count": 3,
   "id": "2581b449",
   "metadata": {},
   "outputs": [
    {
     "data": {
      "text/html": [
       "<div>\n",
       "<style scoped>\n",
       "    .dataframe tbody tr th:only-of-type {\n",
       "        vertical-align: middle;\n",
       "    }\n",
       "\n",
       "    .dataframe tbody tr th {\n",
       "        vertical-align: top;\n",
       "    }\n",
       "\n",
       "    .dataframe thead th {\n",
       "        text-align: right;\n",
       "    }\n",
       "</style>\n",
       "<table border=\"1\" class=\"dataframe\">\n",
       "  <thead>\n",
       "    <tr style=\"text-align: right;\">\n",
       "      <th></th>\n",
       "      <th>count</th>\n",
       "      <th>mean</th>\n",
       "      <th>std</th>\n",
       "      <th>min</th>\n",
       "      <th>25%</th>\n",
       "      <th>50%</th>\n",
       "      <th>75%</th>\n",
       "      <th>max</th>\n",
       "    </tr>\n",
       "  </thead>\n",
       "  <tbody>\n",
       "    <tr>\n",
       "      <th>survived</th>\n",
       "      <td>891.0</td>\n",
       "      <td>0.383838</td>\n",
       "      <td>0.486592</td>\n",
       "      <td>0.00</td>\n",
       "      <td>0.0000</td>\n",
       "      <td>0.0000</td>\n",
       "      <td>1.0</td>\n",
       "      <td>1.0000</td>\n",
       "    </tr>\n",
       "    <tr>\n",
       "      <th>pclass</th>\n",
       "      <td>891.0</td>\n",
       "      <td>2.308642</td>\n",
       "      <td>0.836071</td>\n",
       "      <td>1.00</td>\n",
       "      <td>2.0000</td>\n",
       "      <td>3.0000</td>\n",
       "      <td>3.0</td>\n",
       "      <td>3.0000</td>\n",
       "    </tr>\n",
       "    <tr>\n",
       "      <th>age</th>\n",
       "      <td>714.0</td>\n",
       "      <td>29.699118</td>\n",
       "      <td>14.526497</td>\n",
       "      <td>0.42</td>\n",
       "      <td>20.1250</td>\n",
       "      <td>28.0000</td>\n",
       "      <td>38.0</td>\n",
       "      <td>80.0000</td>\n",
       "    </tr>\n",
       "    <tr>\n",
       "      <th>sibsp</th>\n",
       "      <td>891.0</td>\n",
       "      <td>0.523008</td>\n",
       "      <td>1.102743</td>\n",
       "      <td>0.00</td>\n",
       "      <td>0.0000</td>\n",
       "      <td>0.0000</td>\n",
       "      <td>1.0</td>\n",
       "      <td>8.0000</td>\n",
       "    </tr>\n",
       "    <tr>\n",
       "      <th>parch</th>\n",
       "      <td>891.0</td>\n",
       "      <td>0.381594</td>\n",
       "      <td>0.806057</td>\n",
       "      <td>0.00</td>\n",
       "      <td>0.0000</td>\n",
       "      <td>0.0000</td>\n",
       "      <td>0.0</td>\n",
       "      <td>6.0000</td>\n",
       "    </tr>\n",
       "    <tr>\n",
       "      <th>fare</th>\n",
       "      <td>891.0</td>\n",
       "      <td>32.204208</td>\n",
       "      <td>49.693429</td>\n",
       "      <td>0.00</td>\n",
       "      <td>7.9104</td>\n",
       "      <td>14.4542</td>\n",
       "      <td>31.0</td>\n",
       "      <td>512.3292</td>\n",
       "    </tr>\n",
       "  </tbody>\n",
       "</table>\n",
       "</div>"
      ],
      "text/plain": [
       "          count       mean        std   min      25%      50%   75%       max\n",
       "survived  891.0   0.383838   0.486592  0.00   0.0000   0.0000   1.0    1.0000\n",
       "pclass    891.0   2.308642   0.836071  1.00   2.0000   3.0000   3.0    3.0000\n",
       "age       714.0  29.699118  14.526497  0.42  20.1250  28.0000  38.0   80.0000\n",
       "sibsp     891.0   0.523008   1.102743  0.00   0.0000   0.0000   1.0    8.0000\n",
       "parch     891.0   0.381594   0.806057  0.00   0.0000   0.0000   0.0    6.0000\n",
       "fare      891.0  32.204208  49.693429  0.00   7.9104  14.4542  31.0  512.3292"
      ]
     },
     "execution_count": 3,
     "metadata": {},
     "output_type": "execute_result"
    }
   ],
   "source": [
    "df.describe().T"
   ]
  },
  {
   "cell_type": "markdown",
   "id": "ad7e4dbb",
   "metadata": {},
   "source": [
    "a)Aykiri Deger :\n",
    "\n",
    "    age: %75-%25 = 38-20 = 18 * 1.5 = 27 \n",
    "         %75 + 27 = 38+27 = 65\n",
    "         27-20 = 7   \n",
    "        Age icin min deger 0.42 max deger 80 dir.\n",
    "        Buna gore, 7 den kucuk ve 65 den buyuk degerler aykiri degerlerdir.\n",
    "        \n",
    "    sibsp: 1-0 = 1 * 1.5 = 1.5\n",
    "           1.5 + 1 = 2.5\n",
    "           1.5 - 0 = 1.5\n",
    "          sibsp icin min deger 0 max deger 8 dir.\n",
    "          Buna gore, 1.5 den kucuk ve 2.5 den buyuk degerler aykiri degerlerdir.\n",
    "        \n",
    "     parch: 0-0 = 0 * 1.5 = 0\n",
    "           6 + 0 = 6\n",
    "           0 - 0 = 0\n",
    "          sibsp icin min deger 0 max deger 6 dir.\n",
    "          Bu dgerlerin disinda kalan deger yoktur.\n",
    "     \n",
    "    fare: 31-7.9 = 23.1 * 1.5 = 34.6\n",
    "           31 + 34.6 = 65.6\n",
    "           34.6 - 31 = 3.6\n",
    "          sibsp icin min deger 0 max deger 512 dir.\n",
    "          Buna gore, 3.6 den kucuk ve 65.6 den buyuk degerler aykiri degerlerdir.    \n",
    "        \n",
    "        \n",
    "        \n",
    "         "
   ]
  },
  {
   "cell_type": "code",
   "execution_count": 4,
   "id": "eedf86b8",
   "metadata": {},
   "outputs": [],
   "source": [
    "# age: \n",
    "    # mean 29 medyan 28 oldukca yakin degerler\n",
    "    # ceyreklikler 20 ve 38 nispeten esit dagilmis\n",
    "    # Normale oldukca yakin bir dagilim var diyebiliriz\n",
    "    \n",
    "# sibsp\n",
    "    # 0 degeri cok fazla oldugundan medyan 0.Ceyreklikler 1 ve 0. Ortalama 0.5 \n",
    "    # 0 etrafinda Normal dagilima yakin olmakla beraber uc degerler mevcut\n",
    "    \n",
    "# parch\n",
    "    # medyan 0.Ceyreklikler 0. Ortalama 0.38 \n",
    "    # 0 etrafinda Normal dagilima yakin olmakla beraber uc degerler mevcut\n",
    "    \n",
    "# fare\n",
    "    # ortanca 14 ortalama 32 degerleri yakin olmadigi icin ceyreklikler daha iyi fikir verecektir.\n",
    "    # 7.9 ve 31 degerleri ortalamadan cok uzak degiller. nispeten normale yakin dagilim var \n",
    "    "
   ]
  },
  {
   "cell_type": "markdown",
   "id": "2fdacc66",
   "metadata": {},
   "source": [
    "### 2-Nitel verilerin dtypelarıını kategorik yapın. \n",
    "### Sıralanabilecek kategorik değişkenlerin sıralı olarak belirleyiniz. \n",
    "### Sıralanmış kategorik verilerin sıralaması doğru değilse sıralamayı uygun hale getirin."
   ]
  },
  {
   "cell_type": "code",
   "execution_count": 5,
   "id": "9d5925f3",
   "metadata": {},
   "outputs": [],
   "source": [
    "# Mevcut data tiplerini gorelim"
   ]
  },
  {
   "cell_type": "code",
   "execution_count": 6,
   "id": "2685c3a0",
   "metadata": {},
   "outputs": [
    {
     "name": "stdout",
     "output_type": "stream",
     "text": [
      "<class 'pandas.core.frame.DataFrame'>\n",
      "RangeIndex: 891 entries, 0 to 890\n",
      "Data columns (total 15 columns):\n",
      " #   Column       Non-Null Count  Dtype   \n",
      "---  ------       --------------  -----   \n",
      " 0   survived     891 non-null    int64   \n",
      " 1   pclass       891 non-null    int64   \n",
      " 2   sex          891 non-null    object  \n",
      " 3   age          714 non-null    float64 \n",
      " 4   sibsp        891 non-null    int64   \n",
      " 5   parch        891 non-null    int64   \n",
      " 6   fare         891 non-null    float64 \n",
      " 7   embarked     889 non-null    object  \n",
      " 8   class        891 non-null    category\n",
      " 9   who          891 non-null    object  \n",
      " 10  adult_male   891 non-null    bool    \n",
      " 11  deck         203 non-null    category\n",
      " 12  embark_town  889 non-null    object  \n",
      " 13  alive        891 non-null    object  \n",
      " 14  alone        891 non-null    bool    \n",
      "dtypes: bool(2), category(2), float64(2), int64(4), object(5)\n",
      "memory usage: 80.7+ KB\n"
     ]
    }
   ],
   "source": [
    "df.info()"
   ]
  },
  {
   "cell_type": "code",
   "execution_count": 7,
   "id": "02b8f699",
   "metadata": {},
   "outputs": [],
   "source": [
    "# Nitel verilerin kategorik yapin, kutuphaneyi import edip degisikligi astype ile yapariz"
   ]
  },
  {
   "cell_type": "code",
   "execution_count": 8,
   "id": "b8a6c077",
   "metadata": {},
   "outputs": [],
   "source": [
    "from pandas.api.types import CategoricalDtype"
   ]
  },
  {
   "cell_type": "code",
   "execution_count": 9,
   "id": "f167ac7a",
   "metadata": {},
   "outputs": [],
   "source": [
    "df.survived = df.survived.astype(CategoricalDtype(ordered = False))\n",
    "df.sex = df.sex.astype(CategoricalDtype(ordered = False))\n",
    "df.embarked = df.embarked.astype(CategoricalDtype(ordered = False))\n",
    "df.adult_male = df.adult_male.astype(CategoricalDtype(ordered = False))\n",
    "df.deck = df.deck.astype(CategoricalDtype(ordered = False))\n",
    "df.embark_town = df.embark_town.astype(CategoricalDtype(ordered = False))\n",
    "df.alive = df.alive.astype(CategoricalDtype(ordered = False))\n",
    "df.alone = df.alone.astype(CategoricalDtype(ordered = False))\n",
    "df.who = df.who.astype(CategoricalDtype(ordered = False))\n",
    "\n",
    "\n",
    "df.pclass = df.pclass.astype(CategoricalDtype(ordered = True))\n",
    "df['class']= df['class'].astype(CategoricalDtype(ordered = True))\n"
   ]
  },
  {
   "cell_type": "code",
   "execution_count": 10,
   "id": "168415e6",
   "metadata": {},
   "outputs": [],
   "source": [
    "# Tekrar data tiplerine baktigimizda degisikligin gerceklestigini goruruz."
   ]
  },
  {
   "cell_type": "code",
   "execution_count": 11,
   "id": "14e97dd7",
   "metadata": {},
   "outputs": [
    {
     "name": "stdout",
     "output_type": "stream",
     "text": [
      "<class 'pandas.core.frame.DataFrame'>\n",
      "RangeIndex: 891 entries, 0 to 890\n",
      "Data columns (total 15 columns):\n",
      " #   Column       Non-Null Count  Dtype   \n",
      "---  ------       --------------  -----   \n",
      " 0   survived     891 non-null    category\n",
      " 1   pclass       891 non-null    category\n",
      " 2   sex          891 non-null    category\n",
      " 3   age          714 non-null    float64 \n",
      " 4   sibsp        891 non-null    int64   \n",
      " 5   parch        891 non-null    int64   \n",
      " 6   fare         891 non-null    float64 \n",
      " 7   embarked     889 non-null    category\n",
      " 8   class        891 non-null    category\n",
      " 9   who          891 non-null    category\n",
      " 10  adult_male   891 non-null    category\n",
      " 11  deck         203 non-null    category\n",
      " 12  embark_town  889 non-null    category\n",
      " 13  alive        891 non-null    category\n",
      " 14  alone        891 non-null    category\n",
      "dtypes: category(11), float64(2), int64(2)\n",
      "memory usage: 39.1 KB\n"
     ]
    }
   ],
   "source": [
    "df.info()"
   ]
  },
  {
   "cell_type": "code",
   "execution_count": 12,
   "id": "124d7338",
   "metadata": {},
   "outputs": [],
   "source": [
    "# Siralama yanlis oldugu icin siralamayi duzeltiriz."
   ]
  },
  {
   "cell_type": "code",
   "execution_count": 13,
   "id": "a8dc8104",
   "metadata": {},
   "outputs": [
    {
     "data": {
      "text/plain": [
       "0    Third\n",
       "1    First\n",
       "2    Third\n",
       "3    First\n",
       "4    Third\n",
       "Name: class, dtype: category\n",
       "Categories (3, object): ['First' < 'Second' < 'Third']"
      ]
     },
     "execution_count": 13,
     "metadata": {},
     "output_type": "execute_result"
    }
   ],
   "source": [
    "df['class'].head()"
   ]
  },
  {
   "cell_type": "code",
   "execution_count": 14,
   "id": "c53091d0",
   "metadata": {},
   "outputs": [],
   "source": [
    "class_categori = ['Third','Second','First']\n",
    "df['class'] = df['class'].astype(CategoricalDtype(categories=class_categori, ordered = True))"
   ]
  },
  {
   "cell_type": "code",
   "execution_count": 15,
   "id": "9d761209",
   "metadata": {},
   "outputs": [],
   "source": [
    "# Yanlis siralamanin duzeldigini goruruz"
   ]
  },
  {
   "cell_type": "code",
   "execution_count": 16,
   "id": "40cb46f2",
   "metadata": {},
   "outputs": [
    {
     "data": {
      "text/plain": [
       "0    Third\n",
       "1    First\n",
       "2    Third\n",
       "3    First\n",
       "4    Third\n",
       "Name: class, dtype: category\n",
       "Categories (3, object): ['Third' < 'Second' < 'First']"
      ]
     },
     "execution_count": 16,
     "metadata": {},
     "output_type": "execute_result"
    }
   ],
   "source": [
    "df['class'].head()"
   ]
  },
  {
   "cell_type": "markdown",
   "id": "27a1813d",
   "metadata": {},
   "source": [
    "### 3- sex ve class değişkenlerini Label Encoder veya Dummies yöntemiyle sayısal verierle dönüştürünüz.\n",
    "\n"
   ]
  },
  {
   "cell_type": "code",
   "execution_count": 17,
   "id": "3f808cc9",
   "metadata": {},
   "outputs": [
    {
     "data": {
      "text/html": [
       "<div>\n",
       "<style scoped>\n",
       "    .dataframe tbody tr th:only-of-type {\n",
       "        vertical-align: middle;\n",
       "    }\n",
       "\n",
       "    .dataframe tbody tr th {\n",
       "        vertical-align: top;\n",
       "    }\n",
       "\n",
       "    .dataframe thead th {\n",
       "        text-align: right;\n",
       "    }\n",
       "</style>\n",
       "<table border=\"1\" class=\"dataframe\">\n",
       "  <thead>\n",
       "    <tr style=\"text-align: right;\">\n",
       "      <th></th>\n",
       "      <th>sex</th>\n",
       "      <th>class</th>\n",
       "    </tr>\n",
       "  </thead>\n",
       "  <tbody>\n",
       "    <tr>\n",
       "      <th>0</th>\n",
       "      <td>male</td>\n",
       "      <td>Third</td>\n",
       "    </tr>\n",
       "    <tr>\n",
       "      <th>1</th>\n",
       "      <td>female</td>\n",
       "      <td>First</td>\n",
       "    </tr>\n",
       "    <tr>\n",
       "      <th>2</th>\n",
       "      <td>female</td>\n",
       "      <td>Third</td>\n",
       "    </tr>\n",
       "    <tr>\n",
       "      <th>3</th>\n",
       "      <td>female</td>\n",
       "      <td>First</td>\n",
       "    </tr>\n",
       "    <tr>\n",
       "      <th>4</th>\n",
       "      <td>male</td>\n",
       "      <td>Third</td>\n",
       "    </tr>\n",
       "  </tbody>\n",
       "</table>\n",
       "</div>"
      ],
      "text/plain": [
       "      sex  class\n",
       "0    male  Third\n",
       "1  female  First\n",
       "2  female  Third\n",
       "3  female  First\n",
       "4    male  Third"
      ]
     },
     "execution_count": 17,
     "metadata": {},
     "output_type": "execute_result"
    }
   ],
   "source": [
    "df[['sex','class']].head()"
   ]
  },
  {
   "cell_type": "code",
   "execution_count": 18,
   "id": "b0337a21",
   "metadata": {},
   "outputs": [],
   "source": [
    "from sklearn.preprocessing import LabelEncoder"
   ]
  },
  {
   "cell_type": "code",
   "execution_count": 19,
   "id": "a9b97469",
   "metadata": {},
   "outputs": [],
   "source": [
    "labelencoder = LabelEncoder ()   # obje olusturduk"
   ]
  },
  {
   "cell_type": "code",
   "execution_count": 20,
   "id": "4448a658",
   "metadata": {},
   "outputs": [],
   "source": [
    "df.sex = labelencoder.fit_transform(df.sex)"
   ]
  },
  {
   "cell_type": "code",
   "execution_count": 21,
   "id": "5051cf0a",
   "metadata": {},
   "outputs": [
    {
     "data": {
      "text/plain": [
       "0      1\n",
       "1      0\n",
       "2      0\n",
       "3      0\n",
       "4      1\n",
       "      ..\n",
       "886    1\n",
       "887    0\n",
       "888    0\n",
       "889    1\n",
       "890    1\n",
       "Name: sex, Length: 891, dtype: int32"
      ]
     },
     "execution_count": 21,
     "metadata": {},
     "output_type": "execute_result"
    }
   ],
   "source": [
    "df.sex"
   ]
  },
  {
   "cell_type": "code",
   "execution_count": 22,
   "id": "af62e1b6",
   "metadata": {},
   "outputs": [],
   "source": [
    "# Dummies"
   ]
  },
  {
   "cell_type": "code",
   "execution_count": 23,
   "id": "121a6bd5",
   "metadata": {},
   "outputs": [],
   "source": [
    "import pandas as pd"
   ]
  },
  {
   "cell_type": "code",
   "execution_count": 24,
   "id": "b17ae5b9",
   "metadata": {},
   "outputs": [
    {
     "data": {
      "text/html": [
       "<div>\n",
       "<style scoped>\n",
       "    .dataframe tbody tr th:only-of-type {\n",
       "        vertical-align: middle;\n",
       "    }\n",
       "\n",
       "    .dataframe tbody tr th {\n",
       "        vertical-align: top;\n",
       "    }\n",
       "\n",
       "    .dataframe thead th {\n",
       "        text-align: right;\n",
       "    }\n",
       "</style>\n",
       "<table border=\"1\" class=\"dataframe\">\n",
       "  <thead>\n",
       "    <tr style=\"text-align: right;\">\n",
       "      <th></th>\n",
       "      <th>sex</th>\n",
       "      <th>class_Third</th>\n",
       "      <th>class_Second</th>\n",
       "      <th>class_First</th>\n",
       "    </tr>\n",
       "  </thead>\n",
       "  <tbody>\n",
       "    <tr>\n",
       "      <th>0</th>\n",
       "      <td>1</td>\n",
       "      <td>1</td>\n",
       "      <td>0</td>\n",
       "      <td>0</td>\n",
       "    </tr>\n",
       "    <tr>\n",
       "      <th>1</th>\n",
       "      <td>0</td>\n",
       "      <td>0</td>\n",
       "      <td>0</td>\n",
       "      <td>1</td>\n",
       "    </tr>\n",
       "    <tr>\n",
       "      <th>2</th>\n",
       "      <td>0</td>\n",
       "      <td>1</td>\n",
       "      <td>0</td>\n",
       "      <td>0</td>\n",
       "    </tr>\n",
       "    <tr>\n",
       "      <th>3</th>\n",
       "      <td>0</td>\n",
       "      <td>0</td>\n",
       "      <td>0</td>\n",
       "      <td>1</td>\n",
       "    </tr>\n",
       "    <tr>\n",
       "      <th>4</th>\n",
       "      <td>1</td>\n",
       "      <td>1</td>\n",
       "      <td>0</td>\n",
       "      <td>0</td>\n",
       "    </tr>\n",
       "    <tr>\n",
       "      <th>...</th>\n",
       "      <td>...</td>\n",
       "      <td>...</td>\n",
       "      <td>...</td>\n",
       "      <td>...</td>\n",
       "    </tr>\n",
       "    <tr>\n",
       "      <th>886</th>\n",
       "      <td>1</td>\n",
       "      <td>0</td>\n",
       "      <td>1</td>\n",
       "      <td>0</td>\n",
       "    </tr>\n",
       "    <tr>\n",
       "      <th>887</th>\n",
       "      <td>0</td>\n",
       "      <td>0</td>\n",
       "      <td>0</td>\n",
       "      <td>1</td>\n",
       "    </tr>\n",
       "    <tr>\n",
       "      <th>888</th>\n",
       "      <td>0</td>\n",
       "      <td>1</td>\n",
       "      <td>0</td>\n",
       "      <td>0</td>\n",
       "    </tr>\n",
       "    <tr>\n",
       "      <th>889</th>\n",
       "      <td>1</td>\n",
       "      <td>0</td>\n",
       "      <td>0</td>\n",
       "      <td>1</td>\n",
       "    </tr>\n",
       "    <tr>\n",
       "      <th>890</th>\n",
       "      <td>1</td>\n",
       "      <td>1</td>\n",
       "      <td>0</td>\n",
       "      <td>0</td>\n",
       "    </tr>\n",
       "  </tbody>\n",
       "</table>\n",
       "<p>891 rows × 4 columns</p>\n",
       "</div>"
      ],
      "text/plain": [
       "     sex  class_Third  class_Second  class_First\n",
       "0      1            1             0            0\n",
       "1      0            0             0            1\n",
       "2      0            1             0            0\n",
       "3      0            0             0            1\n",
       "4      1            1             0            0\n",
       "..   ...          ...           ...          ...\n",
       "886    1            0             1            0\n",
       "887    0            0             0            1\n",
       "888    0            1             0            0\n",
       "889    1            0             0            1\n",
       "890    1            1             0            0\n",
       "\n",
       "[891 rows x 4 columns]"
      ]
     },
     "execution_count": 24,
     "metadata": {},
     "output_type": "execute_result"
    }
   ],
   "source": [
    "pd.get_dummies(df[['sex','class']])"
   ]
  },
  {
   "cell_type": "code",
   "execution_count": 25,
   "id": "184a64eb",
   "metadata": {},
   "outputs": [],
   "source": [
    "# 4- age ve fare değişkenlerinin normalliklerini inceleyiniz"
   ]
  },
  {
   "cell_type": "code",
   "execution_count": 26,
   "id": "e6e3c755",
   "metadata": {},
   "outputs": [],
   "source": [
    "from scipy.stats import normaltest"
   ]
  },
  {
   "cell_type": "code",
   "execution_count": 27,
   "id": "307169a5",
   "metadata": {},
   "outputs": [],
   "source": [
    "test_value,p_value=normaltest(df.fare)"
   ]
  },
  {
   "cell_type": "code",
   "execution_count": 28,
   "id": "2531a406",
   "metadata": {},
   "outputs": [
    {
     "data": {
      "text/plain": [
       "3.727091062842147e-197"
      ]
     },
     "execution_count": 28,
     "metadata": {},
     "output_type": "execute_result"
    }
   ],
   "source": [
    "p_value"
   ]
  },
  {
   "cell_type": "code",
   "execution_count": 29,
   "id": "2b49985d",
   "metadata": {},
   "outputs": [],
   "source": [
    "test_value,p_value=normaltest(df.age.dropna())"
   ]
  },
  {
   "cell_type": "code",
   "execution_count": 30,
   "id": "2d121c39",
   "metadata": {},
   "outputs": [
    {
     "data": {
      "text/plain": [
       "0.00011709599657350757"
      ]
     },
     "execution_count": 30,
     "metadata": {},
     "output_type": "execute_result"
    }
   ],
   "source": [
    "p_value"
   ]
  },
  {
   "cell_type": "code",
   "execution_count": 31,
   "id": "f1215591",
   "metadata": {},
   "outputs": [],
   "source": [
    "# Her iki TESTde de p degerinin 0.05 den kucuk oldugunu goruyoruz. Her iki dagilimda  normal dagilima sahip degildir"
   ]
  },
  {
   "cell_type": "code",
   "execution_count": null,
   "id": "ff91be14",
   "metadata": {},
   "outputs": [],
   "source": []
  },
  {
   "cell_type": "code",
   "execution_count": 32,
   "id": "f2e9c2b8",
   "metadata": {},
   "outputs": [],
   "source": [
    "# Hipotez Testleri:\n",
    "# H0 hipotezi Titanik kazasında insanlarin sosyo ekonomik siniflari hayatta kalma oranlarına herhangi bir etkisi yoktur\n",
    "# H1 hipotezi Titanik kazasında insanlarin sosyo ekonomik siniflari hayatta kalma oranlarına herhangi bir etkisi vardır\n",
    "# Hipotez test asamalarinin tamamini yukarda önerilen hipotez icin uygulayınız ve sonucu yorumlayiniz."
   ]
  },
  {
   "cell_type": "code",
   "execution_count": 33,
   "id": "e432154b",
   "metadata": {},
   "outputs": [],
   "source": [
    "from scipy.stats import normaltest\n",
    "from scipy.stats import shapiro\n",
    "from statsmodels.stats.proportion import proportions_ztest\n",
    "import numpy as np"
   ]
  },
  {
   "cell_type": "code",
   "execution_count": 34,
   "id": "f0516cd0",
   "metadata": {},
   "outputs": [],
   "source": [
    "df[\"alive\"]=labelencoder.fit_transform(df[\"alive\"])\n"
   ]
  },
  {
   "cell_type": "code",
   "execution_count": 35,
   "id": "4d4ae2de",
   "metadata": {},
   "outputs": [],
   "source": [
    "# Farkli insan guruplarinin, hayatta kalip kalmadigini kontrol edecegimiz icin\n",
    "# BAGIMSIZ IKI ORNEKLEM TESTI UYGULARIZ.\n"
   ]
  },
  {
   "cell_type": "code",
   "execution_count": 36,
   "id": "e0304929",
   "metadata": {},
   "outputs": [],
   "source": [
    "# Once A ve B Datasini belirleyelim. \n",
    "# A = yolcularin sosyal sosyo ekonimik sinifi yani biletinin sinifi olarak \"class\"'i , \n",
    "# B = yolcularin hayatta kalip kalmadigini gosteren sutun olarak \"alive\" olarak belirleriz.\n",
    "\n",
    "A=df[\"pclass\"]\n",
    "B=df[\"alive\"]\n",
    "A_B = pd.concat([A, B], axis = 1)\n",
    "A_B.columns = [\"A\",\"B\"]\n"
   ]
  },
  {
   "cell_type": "code",
   "execution_count": 37,
   "id": "1aaaaba5",
   "metadata": {},
   "outputs": [
    {
     "data": {
      "text/html": [
       "<div>\n",
       "<style scoped>\n",
       "    .dataframe tbody tr th:only-of-type {\n",
       "        vertical-align: middle;\n",
       "    }\n",
       "\n",
       "    .dataframe tbody tr th {\n",
       "        vertical-align: top;\n",
       "    }\n",
       "\n",
       "    .dataframe thead th {\n",
       "        text-align: right;\n",
       "    }\n",
       "</style>\n",
       "<table border=\"1\" class=\"dataframe\">\n",
       "  <thead>\n",
       "    <tr style=\"text-align: right;\">\n",
       "      <th></th>\n",
       "      <th>A</th>\n",
       "      <th>B</th>\n",
       "    </tr>\n",
       "  </thead>\n",
       "  <tbody>\n",
       "    <tr>\n",
       "      <th>886</th>\n",
       "      <td>2</td>\n",
       "      <td>0</td>\n",
       "    </tr>\n",
       "    <tr>\n",
       "      <th>887</th>\n",
       "      <td>1</td>\n",
       "      <td>1</td>\n",
       "    </tr>\n",
       "    <tr>\n",
       "      <th>888</th>\n",
       "      <td>3</td>\n",
       "      <td>0</td>\n",
       "    </tr>\n",
       "    <tr>\n",
       "      <th>889</th>\n",
       "      <td>1</td>\n",
       "      <td>1</td>\n",
       "    </tr>\n",
       "    <tr>\n",
       "      <th>890</th>\n",
       "      <td>3</td>\n",
       "      <td>0</td>\n",
       "    </tr>\n",
       "  </tbody>\n",
       "</table>\n",
       "</div>"
      ],
      "text/plain": [
       "     A  B\n",
       "886  2  0\n",
       "887  1  1\n",
       "888  3  0\n",
       "889  1  1\n",
       "890  3  0"
      ]
     },
     "execution_count": 37,
     "metadata": {},
     "output_type": "execute_result"
    }
   ],
   "source": [
    "# Kontrol edelim, A sutunu bilet sinifini ve B sutunu hayatta kalip kalmadigini gosteriyor\n",
    "A_B.tail()"
   ]
  },
  {
   "cell_type": "code",
   "execution_count": 38,
   "id": "63d41a53",
   "metadata": {},
   "outputs": [
    {
     "data": {
      "text/html": [
       "<div>\n",
       "<style scoped>\n",
       "    .dataframe tbody tr th:only-of-type {\n",
       "        vertical-align: middle;\n",
       "    }\n",
       "\n",
       "    .dataframe tbody tr th {\n",
       "        vertical-align: top;\n",
       "    }\n",
       "\n",
       "    .dataframe thead th {\n",
       "        text-align: right;\n",
       "    }\n",
       "</style>\n",
       "<table border=\"1\" class=\"dataframe\">\n",
       "  <thead>\n",
       "    <tr style=\"text-align: right;\">\n",
       "      <th></th>\n",
       "      <th>pclass</th>\n",
       "      <th>0</th>\n",
       "      <th>alive</th>\n",
       "    </tr>\n",
       "  </thead>\n",
       "  <tbody>\n",
       "    <tr>\n",
       "      <th>0</th>\n",
       "      <td>3</td>\n",
       "      <td>A</td>\n",
       "      <td>NaN</td>\n",
       "    </tr>\n",
       "    <tr>\n",
       "      <th>1</th>\n",
       "      <td>1</td>\n",
       "      <td>A</td>\n",
       "      <td>NaN</td>\n",
       "    </tr>\n",
       "    <tr>\n",
       "      <th>2</th>\n",
       "      <td>3</td>\n",
       "      <td>A</td>\n",
       "      <td>NaN</td>\n",
       "    </tr>\n",
       "    <tr>\n",
       "      <th>3</th>\n",
       "      <td>1</td>\n",
       "      <td>A</td>\n",
       "      <td>NaN</td>\n",
       "    </tr>\n",
       "    <tr>\n",
       "      <th>4</th>\n",
       "      <td>3</td>\n",
       "      <td>A</td>\n",
       "      <td>NaN</td>\n",
       "    </tr>\n",
       "  </tbody>\n",
       "</table>\n",
       "</div>"
      ],
      "text/plain": [
       "  pclass  0  alive\n",
       "0      3  A    NaN\n",
       "1      1  A    NaN\n",
       "2      3  A    NaN\n",
       "3      1  A    NaN\n",
       "4      3  A    NaN"
      ]
     },
     "execution_count": 38,
     "metadata": {},
     "output_type": "execute_result"
    }
   ],
   "source": [
    "# Datalari islem yapabilecegimiz formata donustururuz\n",
    "\n",
    "GRUP_A = np.arange(len(A))\n",
    "GRUP_A = pd.DataFrame(GRUP_A)\n",
    "GRUP_A[:] = \"A\"\n",
    "A = pd.concat([A, GRUP_A], axis = 1)\n",
    "\n",
    "#B ve B'nin Grubu\n",
    "GRUP_B = np.arange(len(B))\n",
    "GRUP_B = pd.DataFrame(GRUP_B)\n",
    "GRUP_B[:] = \"B\"\n",
    "B = pd.concat([B, GRUP_B], axis = 1)\n",
    "\n",
    "#Tum veri\n",
    "AB = pd.concat([A,B])\n",
    "AB.head()"
   ]
  },
  {
   "cell_type": "code",
   "execution_count": 39,
   "id": "c24341b2",
   "metadata": {},
   "outputs": [],
   "source": [
    "# Once SHAPIRO testi ile normal dagilim gosterip gostermedigine bakip\n",
    "# PARAMETRIK mi yoksa NON-PARAMETRIK mi test uygulayacagimiza karar veririz."
   ]
  },
  {
   "cell_type": "code",
   "execution_count": 40,
   "id": "405f8c59",
   "metadata": {},
   "outputs": [
    {
     "data": {
      "text/plain": [
       "ShapiroResult(statistic=0.718337893486023, pvalue=3.3958319924210316e-36)"
      ]
     },
     "execution_count": 40,
     "metadata": {},
     "output_type": "execute_result"
    }
   ],
   "source": [
    "shapiro(A_B.A)"
   ]
  },
  {
   "cell_type": "code",
   "execution_count": 41,
   "id": "e4c6359d",
   "metadata": {},
   "outputs": [],
   "source": [
    "# A gurubu yani \"pclass\" gurubu'nun p degeri e-36 gibi cok kucuk bir degerdir yani normal dagilim degildir "
   ]
  },
  {
   "cell_type": "code",
   "execution_count": 42,
   "id": "c4b53112",
   "metadata": {},
   "outputs": [
    {
     "data": {
      "text/plain": [
       "ShapiroResult(statistic=0.616659939289093, pvalue=1.7945308393836472e-40)"
      ]
     },
     "execution_count": 42,
     "metadata": {},
     "output_type": "execute_result"
    }
   ],
   "source": [
    "shapiro(A_B.B)"
   ]
  },
  {
   "cell_type": "code",
   "execution_count": 43,
   "id": "570de7b7",
   "metadata": {},
   "outputs": [],
   "source": [
    "# B gurubu yani \"alive\" gurubu'nun p degeri e-40 gibi cok kucuk bir degerdir yani normal dagilim degildir "
   ]
  },
  {
   "cell_type": "code",
   "execution_count": 44,
   "id": "1a07509b",
   "metadata": {},
   "outputs": [],
   "source": [
    "# Her iki gurup da normal dagilima sahir degildir. NON PARAMETRIK test uygulamamiz gerekir"
   ]
  },
  {
   "cell_type": "code",
   "execution_count": 45,
   "id": "e21de59f",
   "metadata": {},
   "outputs": [],
   "source": [
    "# Ama once 2 veri karsilastirilacagi zaman VARYANS HOMOJENLIGI Testi de yapmamiz gerekir"
   ]
  },
  {
   "cell_type": "code",
   "execution_count": 46,
   "id": "05b60905",
   "metadata": {},
   "outputs": [],
   "source": [
    "# H0 = varyanslar homojen\n",
    "# H1 = varyanslar homojen degil"
   ]
  },
  {
   "cell_type": "code",
   "execution_count": 47,
   "id": "de7e6624",
   "metadata": {},
   "outputs": [
    {
     "data": {
      "text/plain": [
       "LeveneResult(statistic=90.04223321250018, pvalue=7.189908883210466e-21)"
      ]
     },
     "execution_count": 47,
     "metadata": {},
     "output_type": "execute_result"
    }
   ],
   "source": [
    "import scipy.stats as stats\n",
    "stats.levene (A_B.A, A_B.B)"
   ]
  },
  {
   "cell_type": "code",
   "execution_count": 48,
   "id": "5cafa573",
   "metadata": {},
   "outputs": [],
   "source": [
    "# p value 0,000 < 0.05  H1 durumu geceerlidir yani varyanslar homojen degildir."
   ]
  },
  {
   "cell_type": "code",
   "execution_count": 49,
   "id": "4f87d14b",
   "metadata": {},
   "outputs": [],
   "source": [
    "# Ama yine de teste devam ediyoruz."
   ]
  },
  {
   "cell_type": "code",
   "execution_count": 50,
   "id": "2c8699c1",
   "metadata": {},
   "outputs": [],
   "source": [
    "# Hipotez testi icin Parametrik test olan ttesi degil NON-PARAMERIC manmwhitneyu testini kullanacagiz"
   ]
  },
  {
   "cell_type": "code",
   "execution_count": 51,
   "id": "305fca4d",
   "metadata": {},
   "outputs": [
    {
     "data": {
      "text/plain": [
       "MannwhitneyuResult(statistic=36936.0, pvalue=1.497607847198619e-262)"
      ]
     },
     "execution_count": 51,
     "metadata": {},
     "output_type": "execute_result"
    }
   ],
   "source": [
    "stats.mannwhitneyu(A_B[\"A\"], A_B[\"B\"])"
   ]
  },
  {
   "cell_type": "code",
   "execution_count": 52,
   "id": "81f2fdbd",
   "metadata": {},
   "outputs": [],
   "source": [
    "# p degeri 0,05 den cok cok kucuk bir degerdir "
   ]
  },
  {
   "cell_type": "code",
   "execution_count": 56,
   "id": "0ece669c",
   "metadata": {},
   "outputs": [
    {
     "name": "stdout",
     "output_type": "stream",
     "text": [
      "Test İstatistiği = 36936.0000, p-değeri = 0.0000\n"
     ]
    }
   ],
   "source": [
    "# Bir de test istatitiginide kullanarak test edelim\n",
    "test_istatistigi, pvalue = stats.mannwhitneyu(A_B[\"A\"], A_B[\"B\"])\n",
    "print('Test İstatistiği = %.4f, p-değeri = %.4f' % (test_istatistigi, pvalue))"
   ]
  },
  {
   "cell_type": "code",
   "execution_count": 54,
   "id": "bdc87af1",
   "metadata": {},
   "outputs": [],
   "source": [
    "# Burada da p degeri 0,05 den cok cok kucuk bir degerdir "
   ]
  },
  {
   "cell_type": "code",
   "execution_count": 55,
   "id": "13a5cb9d",
   "metadata": {},
   "outputs": [],
   "source": [
    "# SONUC OLARAK : \n",
    "# H0 reddedilir.\n",
    "# H1 testi olan Titanik kazasında insanlarin sosyo ekonomik siniflari hayatta kalma oranlarına herhangi bir etkisi vardır durumu\n",
    "# % 95 guvenilirlikle dogru kabul edilir."
   ]
  }
 ],
 "metadata": {
  "kernelspec": {
   "display_name": "Python 3",
   "language": "python",
   "name": "python3"
  },
  "language_info": {
   "codemirror_mode": {
    "name": "ipython",
    "version": 3
   },
   "file_extension": ".py",
   "mimetype": "text/x-python",
   "name": "python",
   "nbconvert_exporter": "python",
   "pygments_lexer": "ipython3",
   "version": "3.9.4"
  }
 },
 "nbformat": 4,
 "nbformat_minor": 5
}
